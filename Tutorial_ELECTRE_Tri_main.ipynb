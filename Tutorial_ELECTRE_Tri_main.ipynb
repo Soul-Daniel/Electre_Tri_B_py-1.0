{
 "cells": [
  {
   "cell_type": "markdown",
   "id": "06b75546-92a5-488e-9ce5-89bc80410e6d",
   "metadata": {},
   "source": [
    "# Tutorial \"ELECTRE_Tri_main.py\"\n",
    "\n",
    "Author: [Souleymane Daniel](mailto:souleymane.daniel@insa-lyon.fr)\n",
    "\n",
    "[INSA Lyon](https://www.insa-lyon.fr), France, 27/07/2021\n",
    "\n",
    "## Introduction\n",
    "\n",
    "In order to dissociate the representative functions of the ELECTRE-Tri method and their execution in the case of examples or concrete applications, a \"main\" executable code has been created. The [**ELECTRE_Tri_main.py**](ELECTRE_Tri_main.py) code is the executable. It contains the different instructions that will lead to the construction of the objects used throughout the method. The different stages of this executable code are presented here."
   ]
  },
  {
   "cell_type": "markdown",
   "id": "87988817-7bb7-439b-b4ee-04d3da931986",
   "metadata": {},
   "source": [
    "## 1. First step\n",
    "\n",
    "#### 1.1 Cutting threshold\n",
    "The first step is to define the \"**cutting threshold λ**\". The cutting threshold is the basis of the comparison. It allows to decide on the existing over-ranking relationships between actions \"*a*\" and \"*b*\". The closer it is to 1, the more demanding the ranking will be. The most common values for this cutting threshold are generally between *0.60* and *0.75*."
   ]
  },
  {
   "cell_type": "code",
   "execution_count": 1,
   "id": "57c52b02-0bf8-459d-97b5-8fbf2c44c38d",
   "metadata": {},
   "outputs": [],
   "source": [
    "λ = 0.75"
   ]
  },
  {
   "cell_type": "markdown",
   "id": "ac2a34eb-e603-4b22-a164-8bc6ce473ec6",
   "metadata": {},
   "source": [
    "#### 1.2 Categories\n",
    "The names of the different categories should then be given in ascending order. Be careful here as the **[Categories]** list cannot be modified without changing the source code. As a reminder, the code has been built on the basis of three categories which are \"**Bad**\", \"**Moderate**\", and \"**Good**\"."
   ]
  },
  {
   "cell_type": "code",
   "execution_count": 2,
   "id": "b5fd871d-9574-4b11-bdbb-94a1d443b08d",
   "metadata": {},
   "outputs": [],
   "source": [
    "Categories = ['Bad', 'Moderate', 'Good']"
   ]
  },
  {
   "cell_type": "markdown",
   "id": "04b56e91-9041-4503-8ca8-02a51d0042a4",
   "metadata": {},
   "source": [
    "## 2. Second step\n",
    "\n",
    "The second step consist of importing the input data of the problem. These data should be stored in csv files according to the data structure presented in the document [Tutorial_CSV_files_structure.md](Tutorial_CSV_files_structure.md). There should be four such files:\n",
    "- a csv file containing the different data related to the criteria and their weight. \n",
    "\n",
    "    *Example: [Building_retrofit_scenarios_CRIT.csv](Building_retrofit_scenarios_CRIT.csv)*\n",
    "    \n",
    "- a csv file containing the different data related to actions and their performances. \n",
    "\n",
    "    *Example: [Building_retrofit_scenarios_PERF.csv](Building_retrofit_scenarios_PERF.csv)*\n",
    "    \n",
    "- a csv file containing the different data related to the thresholds and reference profile for the \"Good\" category. \n",
    "\n",
    "    *Example: [Building_retrofit_scenarios_THRG.csv](Building_retrofit_scenarios_THRG.csv)*\n",
    "    \n",
    "- a csv file containing the different data related to the thresholds and reference profile for the \"Moderate\" category. \n",
    "\n",
    "    *Example: [Building_retrofit_scenarios_THRM.csv](Building_retrofit_scenarios_THRM.csv)*\n",
    "\n",
    "To import the data, the following functions are used, where the input parameters are of the csv files names:\n",
    "- \"**_input_criteria(name)_**\"\n",
    "- \"**_input_performances(name)_**\"\n",
    "- \"**_input_thresholds(name_moderate, name_good)_**\"\n",
    "\n",
    "These functions will then return the different objects needed for the rest of the process."
   ]
  },
  {
   "cell_type": "code",
   "execution_count": 3,
   "id": "17ec0745-967d-41d1-a7cc-6fdb6abf13da",
   "metadata": {},
   "outputs": [],
   "source": [
    "import ELECTRE_Tri\n",
    "import pandas as pd\n",
    "# Importing the input data of the problem\n",
    "Criteria, Weights = ELECTRE_Tri.input_criteria('Wall_insulation_scenarios_CRIT.csv')\n",
    "Actions, Performances = ELECTRE_Tri.input_performances('Wall_insulation_scenarios_PERF.csv')\n",
    "Thresholds = ELECTRE_Tri.input_thresholds('Wall_insulation_scenarios_THRM.csv', 'Wall_insulation_scenarios_THRG.csv')"
   ]
  },
  {
   "cell_type": "code",
   "execution_count": 4,
   "id": "112f4e23-6d1a-4364-ae3d-943873474905",
   "metadata": {},
   "outputs": [
    {
     "name": "stdout",
     "output_type": "stream",
     "text": [
      "Criteria: ['g1.1', 'g4.1', 'g4.2', 'g4.3', 'g4.4', 'g4.5', 'g4.6', 'g4.7']\n"
     ]
    }
   ],
   "source": [
    "print(\"Criteria:\", Criteria)"
   ]
  },
  {
   "cell_type": "code",
   "execution_count": 20,
   "id": "927ec78a-b835-4c32-a0e9-15ab5c73642f",
   "metadata": {},
   "outputs": [
    {
     "name": "stdout",
     "output_type": "stream",
     "text": [
      "Weights: {'g1.1': 18.44, 'g4.1': 18.450000000000003, 'g4.2': 2.59, 'g4.3': 16.18, 'g4.4': 13.92, 'g4.5': 13.92, 'g4.6': 11.65, 'g4.7': 4.85}\n"
     ]
    }
   ],
   "source": [
    "print(\"Weights:\", Weights)"
   ]
  },
  {
   "cell_type": "code",
   "execution_count": 26,
   "id": "586e1dab-59a8-4154-8877-f90ba10ff1c6",
   "metadata": {},
   "outputs": [
    {
     "name": "stdout",
     "output_type": "stream",
     "text": [
      "Actions: ['e1.1', 'e1.2', 'e1.3', 'e1.4', 'e1.5', 'e1.6', 'e1.7', 'e1.8', 'e1.9']\n"
     ]
    }
   ],
   "source": [
    "print(\"Actions:\", Actions)"
   ]
  },
  {
   "cell_type": "code",
   "execution_count": 14,
   "id": "39d92f12-d96a-490f-a5f4-a60e242e0277",
   "metadata": {},
   "outputs": [
    {
     "data": {
      "text/html": [
       "<div>\n",
       "<style scoped>\n",
       "    .dataframe tbody tr th:only-of-type {\n",
       "        vertical-align: middle;\n",
       "    }\n",
       "\n",
       "    .dataframe tbody tr th {\n",
       "        vertical-align: top;\n",
       "    }\n",
       "\n",
       "    .dataframe thead th {\n",
       "        text-align: right;\n",
       "    }\n",
       "</style>\n",
       "<table border=\"1\" class=\"dataframe\">\n",
       "  <thead>\n",
       "    <tr style=\"text-align: right;\">\n",
       "      <th></th>\n",
       "      <th>e1.1</th>\n",
       "      <th>e1.2</th>\n",
       "      <th>e1.3</th>\n",
       "      <th>e1.4</th>\n",
       "      <th>e1.5</th>\n",
       "      <th>e1.6</th>\n",
       "      <th>e1.7</th>\n",
       "      <th>e1.8</th>\n",
       "      <th>e1.9</th>\n",
       "    </tr>\n",
       "  </thead>\n",
       "  <tbody>\n",
       "    <tr>\n",
       "      <th>g1.1</th>\n",
       "      <td>292158.720000</td>\n",
       "      <td>305201.520000</td>\n",
       "      <td>260856.000000</td>\n",
       "      <td>391284.000000</td>\n",
       "      <td>260856.000000</td>\n",
       "      <td>250421.760000</td>\n",
       "      <td>318244.320000</td>\n",
       "      <td>260856.000000</td>\n",
       "      <td>378241.200000</td>\n",
       "    </tr>\n",
       "    <tr>\n",
       "      <th>g4.1</th>\n",
       "      <td>3.850000</td>\n",
       "      <td>4.000000</td>\n",
       "      <td>3.675000</td>\n",
       "      <td>4.050000</td>\n",
       "      <td>3.850000</td>\n",
       "      <td>4.096000</td>\n",
       "      <td>4.600000</td>\n",
       "      <td>4.380000</td>\n",
       "      <td>3.750000</td>\n",
       "    </tr>\n",
       "    <tr>\n",
       "      <th>g4.2</th>\n",
       "      <td>366.000000</td>\n",
       "      <td>253.000000</td>\n",
       "      <td>546.000000</td>\n",
       "      <td>910.000000</td>\n",
       "      <td>473.000000</td>\n",
       "      <td>40.000000</td>\n",
       "      <td>422.000000</td>\n",
       "      <td>651.000000</td>\n",
       "      <td>11.000000</td>\n",
       "    </tr>\n",
       "    <tr>\n",
       "      <th>g4.3</th>\n",
       "      <td>2.775186</td>\n",
       "      <td>3.469220</td>\n",
       "      <td>3.496743</td>\n",
       "      <td>3.629751</td>\n",
       "      <td>3.810296</td>\n",
       "      <td>4.766400</td>\n",
       "      <td>2.711687</td>\n",
       "      <td>3.641586</td>\n",
       "      <td>3.355338</td>\n",
       "    </tr>\n",
       "    <tr>\n",
       "      <th>g4.4</th>\n",
       "      <td>4.555793</td>\n",
       "      <td>4.558811</td>\n",
       "      <td>4.621547</td>\n",
       "      <td>3.986065</td>\n",
       "      <td>4.816353</td>\n",
       "      <td>4.683347</td>\n",
       "      <td>4.164022</td>\n",
       "      <td>4.924734</td>\n",
       "      <td>4.096199</td>\n",
       "    </tr>\n",
       "    <tr>\n",
       "      <th>g4.5</th>\n",
       "      <td>3.978291</td>\n",
       "      <td>4.647039</td>\n",
       "      <td>3.377713</td>\n",
       "      <td>2.715563</td>\n",
       "      <td>4.743696</td>\n",
       "      <td>4.519090</td>\n",
       "      <td>3.970678</td>\n",
       "      <td>2.413006</td>\n",
       "      <td>3.636810</td>\n",
       "    </tr>\n",
       "    <tr>\n",
       "      <th>g4.6</th>\n",
       "      <td>0.547105</td>\n",
       "      <td>0.049737</td>\n",
       "      <td>0.000000</td>\n",
       "      <td>0.000000</td>\n",
       "      <td>0.291316</td>\n",
       "      <td>1.525124</td>\n",
       "      <td>0.859737</td>\n",
       "      <td>0.000000</td>\n",
       "      <td>0.481762</td>\n",
       "    </tr>\n",
       "    <tr>\n",
       "      <th>g4.7</th>\n",
       "      <td>3.962169</td>\n",
       "      <td>3.643056</td>\n",
       "      <td>4.376313</td>\n",
       "      <td>4.392646</td>\n",
       "      <td>4.197247</td>\n",
       "      <td>3.980695</td>\n",
       "      <td>3.776660</td>\n",
       "      <td>3.703903</td>\n",
       "      <td>2.339232</td>\n",
       "    </tr>\n",
       "  </tbody>\n",
       "</table>\n",
       "</div>"
      ],
      "text/plain": [
       "               e1.1           e1.2           e1.3           e1.4  \\\n",
       "g1.1  292158.720000  305201.520000  260856.000000  391284.000000   \n",
       "g4.1       3.850000       4.000000       3.675000       4.050000   \n",
       "g4.2     366.000000     253.000000     546.000000     910.000000   \n",
       "g4.3       2.775186       3.469220       3.496743       3.629751   \n",
       "g4.4       4.555793       4.558811       4.621547       3.986065   \n",
       "g4.5       3.978291       4.647039       3.377713       2.715563   \n",
       "g4.6       0.547105       0.049737       0.000000       0.000000   \n",
       "g4.7       3.962169       3.643056       4.376313       4.392646   \n",
       "\n",
       "               e1.5           e1.6           e1.7           e1.8  \\\n",
       "g1.1  260856.000000  250421.760000  318244.320000  260856.000000   \n",
       "g4.1       3.850000       4.096000       4.600000       4.380000   \n",
       "g4.2     473.000000      40.000000     422.000000     651.000000   \n",
       "g4.3       3.810296       4.766400       2.711687       3.641586   \n",
       "g4.4       4.816353       4.683347       4.164022       4.924734   \n",
       "g4.5       4.743696       4.519090       3.970678       2.413006   \n",
       "g4.6       0.291316       1.525124       0.859737       0.000000   \n",
       "g4.7       4.197247       3.980695       3.776660       3.703903   \n",
       "\n",
       "               e1.9  \n",
       "g1.1  378241.200000  \n",
       "g4.1       3.750000  \n",
       "g4.2      11.000000  \n",
       "g4.3       3.355338  \n",
       "g4.4       4.096199  \n",
       "g4.5       3.636810  \n",
       "g4.6       0.481762  \n",
       "g4.7       2.339232  "
      ]
     },
     "execution_count": 14,
     "metadata": {},
     "output_type": "execute_result"
    }
   ],
   "source": [
    "pd.DataFrame(Performances)"
   ]
  },
  {
   "cell_type": "code",
   "execution_count": 21,
   "id": "d97e1c8c-4027-448a-95af-fb0f0120f588",
   "metadata": {},
   "outputs": [
    {
     "data": {
      "text/html": [
       "<div>\n",
       "<style scoped>\n",
       "    .dataframe tbody tr th:only-of-type {\n",
       "        vertical-align: middle;\n",
       "    }\n",
       "\n",
       "    .dataframe tbody tr th {\n",
       "        vertical-align: top;\n",
       "    }\n",
       "\n",
       "    .dataframe thead th {\n",
       "        text-align: right;\n",
       "    }\n",
       "</style>\n",
       "<table border=\"1\" class=\"dataframe\">\n",
       "  <thead>\n",
       "    <tr style=\"text-align: right;\">\n",
       "      <th></th>\n",
       "      <th>g1.1</th>\n",
       "      <th>g4.1</th>\n",
       "      <th>g4.2</th>\n",
       "      <th>g4.3</th>\n",
       "      <th>g4.4</th>\n",
       "      <th>g4.5</th>\n",
       "      <th>g4.6</th>\n",
       "      <th>g4.7</th>\n",
       "    </tr>\n",
       "  </thead>\n",
       "  <tbody>\n",
       "    <tr>\n",
       "      <th>0</th>\n",
       "      <td>-328170.33638</td>\n",
       "      <td>3.877656</td>\n",
       "      <td>-550.887631</td>\n",
       "      <td>3.216166</td>\n",
       "      <td>4.324336</td>\n",
       "      <td>3.363922</td>\n",
       "      <td>0.159964</td>\n",
       "      <td>3.509612</td>\n",
       "    </tr>\n",
       "    <tr>\n",
       "      <th>1</th>\n",
       "      <td>30201.32800</td>\n",
       "      <td>0.402789</td>\n",
       "      <td>40.800000</td>\n",
       "      <td>0.351736</td>\n",
       "      <td>0.448965</td>\n",
       "      <td>0.377799</td>\n",
       "      <td>0.041720</td>\n",
       "      <td>0.381910</td>\n",
       "    </tr>\n",
       "    <tr>\n",
       "      <th>2</th>\n",
       "      <td>60402.65600</td>\n",
       "      <td>0.805578</td>\n",
       "      <td>81.600000</td>\n",
       "      <td>0.703471</td>\n",
       "      <td>0.897930</td>\n",
       "      <td>0.755597</td>\n",
       "      <td>0.083440</td>\n",
       "      <td>0.763820</td>\n",
       "    </tr>\n",
       "    <tr>\n",
       "      <th>3</th>\n",
       "      <td>120805.31200</td>\n",
       "      <td>1.611156</td>\n",
       "      <td>163.200000</td>\n",
       "      <td>1.406943</td>\n",
       "      <td>1.795861</td>\n",
       "      <td>1.511195</td>\n",
       "      <td>0.166879</td>\n",
       "      <td>1.527641</td>\n",
       "    </tr>\n",
       "  </tbody>\n",
       "</table>\n",
       "</div>"
      ],
      "text/plain": [
       "           g1.1      g4.1        g4.2      g4.3      g4.4      g4.5      g4.6  \\\n",
       "0 -328170.33638  3.877656 -550.887631  3.216166  4.324336  3.363922  0.159964   \n",
       "1   30201.32800  0.402789   40.800000  0.351736  0.448965  0.377799  0.041720   \n",
       "2   60402.65600  0.805578   81.600000  0.703471  0.897930  0.755597  0.083440   \n",
       "3  120805.31200  1.611156  163.200000  1.406943  1.795861  1.511195  0.166879   \n",
       "\n",
       "       g4.7  \n",
       "0  3.509612  \n",
       "1  0.381910  \n",
       "2  0.763820  \n",
       "3  1.527641  "
      ]
     },
     "execution_count": 21,
     "metadata": {},
     "output_type": "execute_result"
    }
   ],
   "source": [
    "pd.DataFrame(Thresholds['Moderate'])"
   ]
  },
  {
   "cell_type": "code",
   "execution_count": 22,
   "id": "032fae54-741d-43fe-87e8-59afec02a3a2",
   "metadata": {},
   "outputs": [
    {
     "data": {
      "text/html": [
       "<div>\n",
       "<style scoped>\n",
       "    .dataframe tbody tr th:only-of-type {\n",
       "        vertical-align: middle;\n",
       "    }\n",
       "\n",
       "    .dataframe tbody tr th {\n",
       "        vertical-align: top;\n",
       "    }\n",
       "\n",
       "    .dataframe thead th {\n",
       "        text-align: right;\n",
       "    }\n",
       "</style>\n",
       "<table border=\"1\" class=\"dataframe\">\n",
       "  <thead>\n",
       "    <tr style=\"text-align: right;\">\n",
       "      <th></th>\n",
       "      <th>g1.1</th>\n",
       "      <th>g4.1</th>\n",
       "      <th>g4.2</th>\n",
       "      <th>g4.3</th>\n",
       "      <th>g4.4</th>\n",
       "      <th>g4.5</th>\n",
       "      <th>g4.6</th>\n",
       "      <th>g4.7</th>\n",
       "    </tr>\n",
       "  </thead>\n",
       "  <tbody>\n",
       "    <tr>\n",
       "      <th>0</th>\n",
       "      <td>-286319.046172</td>\n",
       "      <td>4.118029</td>\n",
       "      <td>-322.267422</td>\n",
       "      <td>3.698071</td>\n",
       "      <td>4.588842</td>\n",
       "      <td>4.026426</td>\n",
       "      <td>0.571538</td>\n",
       "      <td>4.004796</td>\n",
       "    </tr>\n",
       "    <tr>\n",
       "      <th>1</th>\n",
       "      <td>30201.328000</td>\n",
       "      <td>0.402789</td>\n",
       "      <td>40.800000</td>\n",
       "      <td>0.351736</td>\n",
       "      <td>0.448965</td>\n",
       "      <td>0.377799</td>\n",
       "      <td>0.041720</td>\n",
       "      <td>0.381910</td>\n",
       "    </tr>\n",
       "    <tr>\n",
       "      <th>2</th>\n",
       "      <td>60402.656000</td>\n",
       "      <td>0.805578</td>\n",
       "      <td>81.600000</td>\n",
       "      <td>0.703471</td>\n",
       "      <td>0.897930</td>\n",
       "      <td>0.755597</td>\n",
       "      <td>0.083440</td>\n",
       "      <td>0.763820</td>\n",
       "    </tr>\n",
       "    <tr>\n",
       "      <th>3</th>\n",
       "      <td>120805.312000</td>\n",
       "      <td>1.611156</td>\n",
       "      <td>163.200000</td>\n",
       "      <td>1.406943</td>\n",
       "      <td>1.795861</td>\n",
       "      <td>1.511195</td>\n",
       "      <td>0.166879</td>\n",
       "      <td>1.527641</td>\n",
       "    </tr>\n",
       "  </tbody>\n",
       "</table>\n",
       "</div>"
      ],
      "text/plain": [
       "            g1.1      g4.1        g4.2      g4.3      g4.4      g4.5  \\\n",
       "0 -286319.046172  4.118029 -322.267422  3.698071  4.588842  4.026426   \n",
       "1   30201.328000  0.402789   40.800000  0.351736  0.448965  0.377799   \n",
       "2   60402.656000  0.805578   81.600000  0.703471  0.897930  0.755597   \n",
       "3  120805.312000  1.611156  163.200000  1.406943  1.795861  1.511195   \n",
       "\n",
       "       g4.6      g4.7  \n",
       "0  0.571538  4.004796  \n",
       "1  0.041720  0.381910  \n",
       "2  0.083440  0.763820  \n",
       "3  0.166879  1.527641  "
      ]
     },
     "execution_count": 22,
     "metadata": {},
     "output_type": "execute_result"
    }
   ],
   "source": [
    "pd.DataFrame(Thresholds['Good'])"
   ]
  },
  {
   "cell_type": "markdown",
   "id": "8fce7430-2be9-4ec2-8e93-8d0973b5c0ac",
   "metadata": {},
   "source": [
    "## 3. Third step\n",
    "\n",
    "In the third step the objective is to use the input data to calculate the indicators of the ELECTRE-Tri method. To calculate these indicators we use the following functions:\n",
    "- Calculation of concordance indices by criteria: \"***concordance***\"\n",
    "- Calculation of discordance indices by criteria: \"***discordance***\"\n",
    "- Calculation of global concordance indices: \"***global_concordance***\"\n",
    "- Calculation of credibility degrees: \"***credibility***\"\n",
    "- Construction of the outranking relationships: \"***over_ranking_relations***\"\n",
    "\n",
    "Particular attention should be paid to the calculation of these indicators. Each of them must be calculated as many times as there are reference profiles. This means that the functions used to perform these calculations must be called several times except for the construction of the over-ranking relationships."
   ]
  },
  {
   "cell_type": "code",
   "execution_count": 9,
   "id": "b7c4cbfa-c747-4961-9421-d439f9e8a8b9",
   "metadata": {},
   "outputs": [],
   "source": [
    "# Calculation of the concordance matrices for the two reference profiles\n",
    "Concordance_b1 = ELECTRE_Tri.concordance(Criteria, Actions, Performances, Thresholds, 'Moderate')\n",
    "Concordance_b2 = ELECTRE_Tri.concordance(Criteria, Actions, Performances, Thresholds, 'Good')"
   ]
  },
  {
   "cell_type": "code",
   "execution_count": 10,
   "id": "21d408a8-92c6-410a-86f6-4f9e09cdf1f7",
   "metadata": {},
   "outputs": [],
   "source": [
    "# Calculation of the discordance matrices for the two reference profiles\n",
    "Discordance_b1 = ELECTRE_Tri.discordance(Criteria, Actions, Performances, Thresholds, 'Moderate')\n",
    "Discordance_b2 = ELECTRE_Tri.discordance(Criteria, Actions, Performances, Thresholds, 'Good')"
   ]
  },
  {
   "cell_type": "code",
   "execution_count": 11,
   "id": "70e45eb4-2ecd-4aa8-b18c-3dbfd080f2c9",
   "metadata": {},
   "outputs": [],
   "source": [
    "# Calculation of the global concordances vectors for the two reference profiles\n",
    "Global_concordance_b1 = ELECTRE_Tri.global_concordance(Concordance_b1, Criteria, Actions, Weights)\n",
    "Global_concordance_b2 = ELECTRE_Tri.global_concordance(Concordance_b2, Criteria, Actions, Weights)"
   ]
  },
  {
   "cell_type": "code",
   "execution_count": 12,
   "id": "472bbc47-d74b-4650-bc6d-083dca230545",
   "metadata": {},
   "outputs": [],
   "source": [
    "# Calculation of the credibility vectors for the two reference profiles\n",
    "Credibility_b1 = ELECTRE_Tri.credibility(Global_concordance_b1, Discordance_b1, Criteria, Actions)\n",
    "Credibility_b2 = ELECTRE_Tri.credibility(Global_concordance_b2, Discordance_b2, Criteria, Actions)"
   ]
  },
  {
   "cell_type": "code",
   "execution_count": 13,
   "id": "dd08dcb2-98b8-41ef-973e-4ca53cbd74c4",
   "metadata": {},
   "outputs": [],
   "source": [
    "# Building the matrix of outranking relations\n",
    "Over_ranking = ELECTRE_Tri.over_ranking_relations(Credibility_b1, Credibility_b2, λ)"
   ]
  },
  {
   "cell_type": "markdown",
   "id": "cebe699a-464a-475e-b2ca-c01d26e50030",
   "metadata": {},
   "source": [
    "## 4. Fourth step\n",
    "\n",
    "#### 4.1 Ranking of actions\n",
    "The fourth step consists in classifying the actions in the categories, based on the outranking relations obtained previously, and following two ranking procedures: \"**optimistic sorting**\" and \"**pessimistic sorting**\".\n",
    "\n",
    "To achieve this sorting we call the two functions \"***pessimistic_sorting***\" and \"***optimistic_sorting***\" and display the result of the ranking in the form of lists representing the categories and containing the actions."
   ]
  },
  {
   "cell_type": "code",
   "execution_count": 14,
   "id": "d182ff8c-e457-46dc-bd25-1f9f136150ff",
   "metadata": {},
   "outputs": [
    {
     "name": "stdout",
     "output_type": "stream",
     "text": [
      " \n",
      "Results of the pessimistic sorting : \n",
      "Bad : ['e1.3' 'e1.4' 'e1.8']\n",
      "Moderate : ['e1.2' 'e1.5' 'e1.9']\n",
      "Good : ['e1.1' 'e1.6' 'e1.7']\n",
      "Pessimistic category : {'e1.1': 3, 'e1.2': 2, 'e1.3': 1, 'e1.4': 1, 'e1.5': 2, 'e1.6': 3, 'e1.7': 3, 'e1.8': 1, 'e1.9': 2}\n"
     ]
    }
   ],
   "source": [
    "# Ranking of actions in the three categories according to the pessimistic procedure and display of the result\n",
    "Pessimistic_sorting = ELECTRE_Tri.pessimistic_sorting(Actions, Over_ranking, Categories)\n",
    "print(' ')\n",
    "print(\"Results of the pessimistic sorting : \")\n",
    "print('Bad :', Pessimistic_sorting[0]['Bad'])\n",
    "print('Moderate :', Pessimistic_sorting[0]['Moderate'])\n",
    "print('Good :', Pessimistic_sorting[0]['Good'])\n",
    "print('Pessimistic category :', Pessimistic_sorting[1])"
   ]
  },
  {
   "cell_type": "code",
   "execution_count": 15,
   "id": "86654cfd-166a-4465-9a8f-62c934f60e79",
   "metadata": {},
   "outputs": [
    {
     "name": "stdout",
     "output_type": "stream",
     "text": [
      " \n",
      "Results of the optimistic sorting : \n",
      "Bad : ['e1.3' 'e1.4' 'e1.8']\n",
      "Moderate : ['e1.2' 'e1.5' 'e1.9']\n",
      "Good : ['e1.1' 'e1.6' 'e1.7']\n",
      "Optimistic category :  {'e1.1': 3, 'e1.2': 2, 'e1.3': 1, 'e1.4': 1, 'e1.5': 2, 'e1.6': 3, 'e1.7': 3, 'e1.8': 1, 'e1.9': 2}\n",
      " \n"
     ]
    }
   ],
   "source": [
    "# Ranking of actions in the three categories according to the optimistic procedure and display of the result\n",
    "Optimistic_sorting = ELECTRE_Tri.optimistic_sorting(Actions, Over_ranking, Categories)\n",
    "print(' ')\n",
    "print('Results of the optimistic sorting : ')\n",
    "print('Bad :', Optimistic_sorting[0]['Bad'])\n",
    "print('Moderate :', Optimistic_sorting[0]['Moderate'])\n",
    "print('Good :', Optimistic_sorting[0]['Good'])\n",
    "print('Optimistic category : ', Optimistic_sorting[1])\n",
    "print(' ')"
   ]
  },
  {
   "cell_type": "markdown",
   "id": "9ab039a2-c086-40b0-b9f4-af54ae8358da",
   "metadata": {},
   "source": [
    "#### 4.2 Calculation of median rank\n",
    "In this fourth step the median rank of each action is also calculated with the function \"***median_rank***\"."
   ]
  },
  {
   "cell_type": "code",
   "execution_count": 16,
   "id": "4bf80741-c000-4c6d-97b3-0f90bbc88871",
   "metadata": {},
   "outputs": [],
   "source": [
    "# Calculating the median rank of each share\n",
    "Median_rank = ELECTRE_Tri.median_rank(Actions, Pessimistic_sorting, Optimistic_sorting)"
   ]
  },
  {
   "cell_type": "markdown",
   "id": "f7f1d2df-8d5b-41b5-9448-918eb1cf73fd",
   "metadata": {},
   "source": [
    "## 5. Fifth step\n",
    "\n",
    "When all the steps are completed, it is then possible to display results with the \"***display_results***\" function for a better visualisation of the ranking of the actions and of the median ranks."
   ]
  },
  {
   "cell_type": "code",
   "execution_count": 17,
   "id": "5936c68d-3285-4d66-851e-8245f80ebd4b",
   "metadata": {},
   "outputs": [
    {
     "name": "stdout",
     "output_type": "stream",
     "text": [
      "e1.1 is classified in the category C33 with a median rank of 3.0\n",
      "e1.2 is classified in the category C22 with a median rank of 2.0\n",
      "e1.3 is classified in the category C11 with a median rank of 1.0\n",
      "e1.4 is classified in the category C11 with a median rank of 1.0\n",
      "e1.5 is classified in the category C22 with a median rank of 2.0\n",
      "e1.6 is classified in the category C33 with a median rank of 3.0\n",
      "e1.7 is classified in the category C33 with a median rank of 3.0\n",
      "e1.8 is classified in the category C11 with a median rank of 1.0\n",
      "e1.9 is classified in the category C22 with a median rank of 2.0\n"
     ]
    }
   ],
   "source": [
    "# Display of the median ranks and of the categories in which each action is classified\n",
    "ELECTRE_Tri.display_results(Actions, Pessimistic_sorting, Optimistic_sorting, Median_rank)"
   ]
  },
  {
   "cell_type": "code",
   "execution_count": null,
   "id": "da76730c-ad8c-4b02-a2d7-f3bbc7af1a38",
   "metadata": {},
   "outputs": [],
   "source": []
  }
 ],
 "metadata": {
  "kernelspec": {
   "display_name": "Python 3",
   "language": "python",
   "name": "python3"
  },
  "language_info": {
   "codemirror_mode": {
    "name": "ipython",
    "version": 3
   },
   "file_extension": ".py",
   "mimetype": "text/x-python",
   "name": "python",
   "nbconvert_exporter": "python",
   "pygments_lexer": "ipython3",
   "version": "3.8.8"
  }
 },
 "nbformat": 4,
 "nbformat_minor": 5
}
